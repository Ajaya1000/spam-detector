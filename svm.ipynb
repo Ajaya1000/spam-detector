{
  "nbformat": 4,
  "nbformat_minor": 0,
  "metadata": {
    "colab": {
      "name": "svm.ipynb",
      "provenance": []
    },
    "kernelspec": {
      "name": "python3",
      "display_name": "Python 3"
    }
  },
  "cells": [
    {
      "cell_type": "code",
      "metadata": {
        "id": "tHLEqopTVgA-"
      },
      "source": [
        "import numpy as np\r\n",
        "import pandas as pd\r\n",
        "import string\r\n"
      ],
      "execution_count": null,
      "outputs": []
    },
    {
      "cell_type": "code",
      "metadata": {
        "id": "Wx5OkYGyVmA0"
      },
      "source": [
        "dataset = pd.read_csv('/content/drive/MyDrive/dataset/data.csv')\r\n",
        "tempo = np.array(dataset[['text','label_num']])\r\n",
        "\r\n",
        "X = np.array(tempo[:,0])\r\n",
        "y = np.array(tempo[:,-1]).astype('float32')"
      ],
      "execution_count": null,
      "outputs": []
    },
    {
      "cell_type": "code",
      "metadata": {
        "id": "i8-_ekLuVpJy"
      },
      "source": [
        "#lower case\r\n",
        "#removing Punctuation\r\n",
        "transTable = str.maketrans(dict.fromkeys(string.punctuation))\r\n",
        "X = np.array([sen.lower().translate(transTable) for sen in X])\r\n",
        "\r\n",
        "import re\r\n",
        "def remove_hyperlink(word):\r\n",
        "    return re.sub(r\"http\\S+\", \"\", word)\r\n",
        "\r\n",
        "X = np.array([remove_hyperlink(sen) for sen in X])"
      ],
      "execution_count": null,
      "outputs": []
    },
    {
      "cell_type": "code",
      "metadata": {
        "colab": {
          "base_uri": "https://localhost:8080/"
        },
        "id": "cvJENkJlVxh-",
        "outputId": "fa0aa7b8-4e5d-43eb-86ab-916a3cdfce8a"
      },
      "source": [
        "max_feature = 50000\r\n",
        "from keras.preprocessing.text import Tokenizer\r\n",
        "tokenizer = Tokenizer(num_words=max_feature)\r\n",
        "tokenizer.fit_on_texts(X)\r\n",
        "X_features =  np.array(tokenizer.texts_to_sequences(X))\r\n",
        "\r\n",
        "max_len = 0;\r\n",
        "for arr in X_features:\r\n",
        "    max_len = max(max_len,len(arr))\r\n",
        "\r\n",
        "from keras.preprocessing.sequence import pad_sequences\r\n",
        "X_features = pad_sequences(X_features,maxlen=max_len,padding='post')"
      ],
      "execution_count": null,
      "outputs": [
        {
          "output_type": "stream",
          "text": [
            "/usr/local/lib/python3.6/dist-packages/ipykernel_launcher.py:5: VisibleDeprecationWarning: Creating an ndarray from ragged nested sequences (which is a list-or-tuple of lists-or-tuples-or ndarrays with different lengths or shapes) is deprecated. If you meant to do this, you must specify 'dtype=object' when creating the ndarray\n",
            "  \"\"\"\n"
          ],
          "name": "stderr"
        }
      ]
    },
    {
      "cell_type": "code",
      "metadata": {
        "colab": {
          "base_uri": "https://localhost:8080/"
        },
        "id": "4n_srthgVzzz",
        "outputId": "0173c987-d9a5-49ec-f992-76e970157a41"
      },
      "source": [
        "X_features = X_features.astype('float32')\r\n",
        "\r\n",
        "print(X_features)"
      ],
      "execution_count": null,
      "outputs": [
        {
          "output_type": "stream",
          "text": [
            "[[9.0000e+00 1.7000e+01 1.0420e+03 ... 0.0000e+00 0.0000e+00 0.0000e+00]\n",
            " [9.0000e+00 4.7000e+01 1.4700e+02 ... 0.0000e+00 0.0000e+00 0.0000e+00]\n",
            " [9.0000e+00 1.4390e+03 2.7143e+04 ... 0.0000e+00 0.0000e+00 0.0000e+00]\n",
            " ...\n",
            " [9.0000e+00 7.0300e+02 2.4000e+02 ... 0.0000e+00 0.0000e+00 0.0000e+00]\n",
            " [9.0000e+00 1.0630e+03 9.4280e+03 ... 0.0000e+00 0.0000e+00 0.0000e+00]\n",
            " [9.0000e+00 9.0600e+02 3.2900e+02 ... 0.0000e+00 0.0000e+00 0.0000e+00]]\n"
          ],
          "name": "stdout"
        }
      ]
    },
    {
      "cell_type": "code",
      "metadata": {
        "id": "vXRRmMNkV2oH"
      },
      "source": [
        "from sklearn.model_selection import train_test_split as tts\r\n",
        "\r\n",
        "X_train, X_test, y_train, y_test = tts(X_features, y, test_size=0.33, random_state=42,shuffle=True)\r\n",
        "X_test, X_valid, y_test, y_valid = tts(X_test, y_test, test_size=0.5, random_state=42,shuffle=True)\r\n"
      ],
      "execution_count": null,
      "outputs": []
    },
    {
      "cell_type": "code",
      "metadata": {
        "colab": {
          "base_uri": "https://localhost:8080/"
        },
        "id": "zbMEU2RbWk06",
        "outputId": "a984be38-9325-4e72-f1b4-ed70fca51ebb"
      },
      "source": [
        "X_features.shape"
      ],
      "execution_count": null,
      "outputs": [
        {
          "output_type": "execute_result",
          "data": {
            "text/plain": [
              "(5171, 3955)"
            ]
          },
          "metadata": {
            "tags": []
          },
          "execution_count": 9
        }
      ]
    },
    {
      "cell_type": "code",
      "metadata": {
        "id": "_VmpUh5OV8kt"
      },
      "source": [
        "import tensorflow as tf\r\n",
        "from tensorflow import keras\r\n",
        "from tensorflow.keras import layers\r\n",
        "from tensorflow.keras.layers.experimental import RandomFourierFeatures"
      ],
      "execution_count": null,
      "outputs": []
    },
    {
      "cell_type": "code",
      "metadata": {
        "colab": {
          "base_uri": "https://localhost:8080/"
        },
        "id": "VKHj3qLjWKT-",
        "outputId": "7b8abe5e-f20c-4067-e569-0fcd01f27829"
      },
      "source": [
        "model = keras.Sequential(\r\n",
        "    [\r\n",
        "        keras.Input(shape=(3955,)),\r\n",
        "        RandomFourierFeatures(output_dim=5000,scale=10.0,kernel_initializer='gaussian',trainable=True),\r\n",
        "        layers.Dense(20, activation='relu'),\r\n",
        "        layers.Dropout(0.33),\r\n",
        "        layers.Dense(1, activation='sigmoid')\r\n",
        "    ]\r\n",
        ")\r\n",
        "model.compile(loss='binary_crossentropy', optimizer='adam', metrics=['accuracy'])\r\n",
        "print(model.summary())"
      ],
      "execution_count": null,
      "outputs": [
        {
          "output_type": "stream",
          "text": [
            "Model: \"sequential_11\"\n",
            "_________________________________________________________________\n",
            "Layer (type)                 Output Shape              Param #   \n",
            "=================================================================\n",
            "random_fourier_features_10 ( (None, 5000)              19780001  \n",
            "_________________________________________________________________\n",
            "dense_22 (Dense)             (None, 20)                100020    \n",
            "_________________________________________________________________\n",
            "dropout_11 (Dropout)         (None, 20)                0         \n",
            "_________________________________________________________________\n",
            "dense_23 (Dense)             (None, 1)                 21        \n",
            "=================================================================\n",
            "Total params: 19,880,042\n",
            "Trainable params: 100,042\n",
            "Non-trainable params: 19,780,000\n",
            "_________________________________________________________________\n",
            "None\n"
          ],
          "name": "stdout"
        }
      ]
    },
    {
      "cell_type": "code",
      "metadata": {
        "colab": {
          "base_uri": "https://localhost:8080/"
        },
        "id": "Vzb9_C-JYErF",
        "outputId": "b0b0f721-dc9a-4a1f-fb70-7a3a37f54c4a"
      },
      "source": [
        "history = model.fit(X_train,y_train,batch_size = 500,epochs=20,validation_data=(X_valid,y_valid),verbose=True)"
      ],
      "execution_count": null,
      "outputs": [
        {
          "output_type": "stream",
          "text": [
            "Epoch 1/20\n",
            "7/7 [==============================] - 7s 987ms/step - loss: 0.7198 - accuracy: 0.5773 - val_loss: 0.6691 - val_accuracy: 0.6019\n",
            "Epoch 2/20\n",
            "7/7 [==============================] - 6s 848ms/step - loss: 0.6306 - accuracy: 0.6616 - val_loss: 0.6491 - val_accuracy: 0.6241\n",
            "Epoch 3/20\n",
            "7/7 [==============================] - 6s 842ms/step - loss: 0.5361 - accuracy: 0.7416 - val_loss: 0.6526 - val_accuracy: 0.6393\n",
            "Epoch 4/20\n",
            "7/7 [==============================] - 6s 817ms/step - loss: 0.4687 - accuracy: 0.7872 - val_loss: 0.6606 - val_accuracy: 0.6300\n",
            "Epoch 5/20\n",
            "7/7 [==============================] - 6s 836ms/step - loss: 0.4185 - accuracy: 0.8219 - val_loss: 0.6613 - val_accuracy: 0.6253\n",
            "Epoch 6/20\n",
            "7/7 [==============================] - 6s 822ms/step - loss: 0.4429 - accuracy: 0.8069 - val_loss: 0.6604 - val_accuracy: 0.6393\n",
            "Epoch 7/20\n",
            "7/7 [==============================] - 6s 842ms/step - loss: 0.3465 - accuracy: 0.8739 - val_loss: 0.6806 - val_accuracy: 0.6218\n",
            "Epoch 8/20\n",
            "7/7 [==============================] - 6s 821ms/step - loss: 0.3244 - accuracy: 0.8819 - val_loss: 0.6734 - val_accuracy: 0.6323\n",
            "Epoch 9/20\n",
            "7/7 [==============================] - 6s 816ms/step - loss: 0.2984 - accuracy: 0.8967 - val_loss: 0.6852 - val_accuracy: 0.6194\n",
            "Epoch 10/20\n",
            "7/7 [==============================] - 6s 823ms/step - loss: 0.2626 - accuracy: 0.9141 - val_loss: 0.7093 - val_accuracy: 0.6300\n",
            "Epoch 11/20\n",
            "7/7 [==============================] - 6s 826ms/step - loss: 0.2443 - accuracy: 0.9281 - val_loss: 0.7186 - val_accuracy: 0.6253\n",
            "Epoch 12/20\n",
            "7/7 [==============================] - 6s 821ms/step - loss: 0.2204 - accuracy: 0.9387 - val_loss: 0.7290 - val_accuracy: 0.6206\n",
            "Epoch 13/20\n",
            "7/7 [==============================] - 6s 819ms/step - loss: 0.1957 - accuracy: 0.9454 - val_loss: 0.7442 - val_accuracy: 0.6136\n",
            "Epoch 14/20\n",
            "7/7 [==============================] - 7s 995ms/step - loss: 0.1692 - accuracy: 0.9538 - val_loss: 0.7706 - val_accuracy: 0.6276\n",
            "Epoch 15/20\n",
            "7/7 [==============================] - 6s 830ms/step - loss: 0.1541 - accuracy: 0.9667 - val_loss: 0.7753 - val_accuracy: 0.6101\n",
            "Epoch 16/20\n",
            "7/7 [==============================] - 6s 838ms/step - loss: 0.1552 - accuracy: 0.9626 - val_loss: 0.7916 - val_accuracy: 0.6030\n",
            "Epoch 17/20\n",
            "7/7 [==============================] - 6s 820ms/step - loss: 0.1264 - accuracy: 0.9767 - val_loss: 0.8242 - val_accuracy: 0.6183\n",
            "Epoch 18/20\n",
            "7/7 [==============================] - 6s 837ms/step - loss: 0.1192 - accuracy: 0.9737 - val_loss: 0.8382 - val_accuracy: 0.5948\n",
            "Epoch 19/20\n",
            "7/7 [==============================] - 6s 843ms/step - loss: 0.1215 - accuracy: 0.9759 - val_loss: 0.8667 - val_accuracy: 0.6030\n",
            "Epoch 20/20\n",
            "7/7 [==============================] - 6s 825ms/step - loss: 0.0958 - accuracy: 0.9852 - val_loss: 0.8659 - val_accuracy: 0.5937\n"
          ],
          "name": "stdout"
        }
      ]
    },
    {
      "cell_type": "code",
      "metadata": {
        "id": "N-PM4yeaYdBF"
      },
      "source": [
        "model.save(\"/content/drive/MyDrive/spam-detector/svm.model\",save_format=\"h5\")"
      ],
      "execution_count": null,
      "outputs": []
    }
  ]
}