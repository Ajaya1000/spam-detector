{
 "cells": [
  {
   "cell_type": "code",
   "execution_count": 11,
   "metadata": {
    "id": "tHLEqopTVgA-"
   },
   "outputs": [],
   "source": [
    "import numpy as np\n",
    "import pandas as pd\n",
    "import string\n"
   ]
  },
  {
   "cell_type": "code",
   "execution_count": 12,
   "metadata": {
    "id": "Wx5OkYGyVmA0"
   },
   "outputs": [],
   "source": [
    "dataset = pd.read_csv('/content/drive/MyDrive/dataset/data.csv')\n",
    "tempo = np.array(dataset[['text','label_num']])\n",
    "\n",
    "X = np.array(tempo[:,0])\n",
    "y = np.array(tempo[:,-1]).astype('float32')"
   ]
  },
  {
   "cell_type": "code",
   "execution_count": 13,
   "metadata": {
    "id": "i8-_ekLuVpJy"
   },
   "outputs": [],
   "source": [
    "#lower case\n",
    "#removing Punctuation\n",
    "transTable = str.maketrans(dict.fromkeys(string.punctuation))\n",
    "X = np.array([sen.lower().translate(transTable) for sen in X])\n",
    "\n",
    "import re\n",
    "def remove_hyperlink(word):\n",
    "    return re.sub(r\"http\\S+\", \"\", word)\n",
    "\n",
    "X = np.array([remove_hyperlink(sen) for sen in X])"
   ]
  },
  {
   "cell_type": "code",
   "execution_count": 14,
   "metadata": {
    "colab": {
     "base_uri": "https://localhost:8080/"
    },
    "id": "cvJENkJlVxh-",
    "outputId": "e0639f65-dcaa-4959-eb5e-109e26d7d338"
   },
   "outputs": [
    {
     "name": "stderr",
     "output_type": "stream",
     "text": [
      "/usr/local/lib/python3.6/dist-packages/ipykernel_launcher.py:5: VisibleDeprecationWarning: Creating an ndarray from ragged nested sequences (which is a list-or-tuple of lists-or-tuples-or ndarrays with different lengths or shapes) is deprecated. If you meant to do this, you must specify 'dtype=object' when creating the ndarray\n",
      "  \"\"\"\n"
     ]
    }
   ],
   "source": [
    "max_feature = 50000\n",
    "from keras.preprocessing.text import Tokenizer\n",
    "tokenizer = Tokenizer(num_words=max_feature)\n",
    "tokenizer.fit_on_texts(X)\n",
    "X_features =  np.array(tokenizer.texts_to_sequences(X))\n",
    "\n",
    "max_len = 0;\n",
    "for arr in X_features:\n",
    "    max_len = max(max_len,len(arr))\n",
    "\n",
    "from keras.preprocessing.sequence import pad_sequences\n",
    "X_features = pad_sequences(X_features,maxlen=max_len,padding='post')"
   ]
  },
  {
   "cell_type": "code",
   "execution_count": 15,
   "metadata": {
    "colab": {
     "base_uri": "https://localhost:8080/"
    },
    "id": "4n_srthgVzzz",
    "outputId": "e0a99a69-2d85-4450-e774-23afd1580274"
   },
   "outputs": [
    {
     "name": "stdout",
     "output_type": "stream",
     "text": [
      "[[9.0000e+00 1.7000e+01 1.0420e+03 ... 0.0000e+00 0.0000e+00 0.0000e+00]\n",
      " [9.0000e+00 4.7000e+01 1.4700e+02 ... 0.0000e+00 0.0000e+00 0.0000e+00]\n",
      " [9.0000e+00 1.4390e+03 2.7143e+04 ... 0.0000e+00 0.0000e+00 0.0000e+00]\n",
      " ...\n",
      " [9.0000e+00 7.0300e+02 2.4000e+02 ... 0.0000e+00 0.0000e+00 0.0000e+00]\n",
      " [9.0000e+00 1.0630e+03 9.4280e+03 ... 0.0000e+00 0.0000e+00 0.0000e+00]\n",
      " [9.0000e+00 9.0600e+02 3.2900e+02 ... 0.0000e+00 0.0000e+00 0.0000e+00]]\n"
     ]
    }
   ],
   "source": [
    "X_features = X_features.astype('float32')\n",
    "\n",
    "print(X_features)"
   ]
  },
  {
   "cell_type": "code",
   "execution_count": 16,
   "metadata": {
    "id": "vXRRmMNkV2oH"
   },
   "outputs": [],
   "source": [
    "from sklearn.model_selection import train_test_split as tts\n",
    "\n",
    "X_train, X_test, y_train, y_test = tts(X_features, y, test_size=0.33, random_state=42,shuffle=True)\n",
    "# X_test, X_valid, y_test, y_valid = tts(X_test, y_test, test_size=0.5, random_state=42,shuffle=True)\n"
   ]
  },
  {
   "cell_type": "code",
   "execution_count": 17,
   "metadata": {
    "colab": {
     "base_uri": "https://localhost:8080/"
    },
    "id": "zbMEU2RbWk06",
    "outputId": "e8870069-6889-4636-d7ff-03dc07001d26"
   },
   "outputs": [
    {
     "data": {
      "text/plain": [
       "(5171, 3955)"
      ]
     },
     "execution_count": 17,
     "metadata": {
      "tags": []
     },
     "output_type": "execute_result"
    }
   ],
   "source": [
    "X_features.shape"
   ]
  },
  {
   "cell_type": "code",
   "execution_count": 8,
   "metadata": {
    "id": "_VmpUh5OV8kt"
   },
   "outputs": [],
   "source": [
    "# import tensorflow as tf\n",
    "# from tensorflow import keras\n",
    "# from tensorflow.keras import layers\n",
    "# from tensorflow.keras.layers.experimental import RandomFourierFeatures"
   ]
  },
  {
   "cell_type": "code",
   "execution_count": 9,
   "metadata": {
    "colab": {
     "base_uri": "https://localhost:8080/"
    },
    "id": "VKHj3qLjWKT-",
    "outputId": "8388fb2b-bfc2-456e-85bd-90327b6a863d"
   },
   "outputs": [
    {
     "name": "stdout",
     "output_type": "stream",
     "text": [
      "Model: \"sequential\"\n",
      "_________________________________________________________________\n",
      "Layer (type)                 Output Shape              Param #   \n",
      "=================================================================\n",
      "random_fourier_features (Ran (None, 5000)              19780001  \n",
      "_________________________________________________________________\n",
      "dense (Dense)                (None, 20)                100020    \n",
      "_________________________________________________________________\n",
      "dropout (Dropout)            (None, 20)                0         \n",
      "_________________________________________________________________\n",
      "dense_1 (Dense)              (None, 1)                 21        \n",
      "=================================================================\n",
      "Total params: 19,880,042\n",
      "Trainable params: 100,042\n",
      "Non-trainable params: 19,780,000\n",
      "_________________________________________________________________\n",
      "None\n"
     ]
    }
   ],
   "source": [
    "# model = keras.Sequential(\n",
    "#     [\n",
    "#         keras.Input(shape=(3955,)),\n",
    "#         RandomFourierFeatures(output_dim=5000,scale=10.0,kernel_initializer='gaussian',trainable=True),\n",
    "#         layers.Dense(20, activation='relu'),\n",
    "#         layers.Dropout(0.33),\n",
    "#         layers.Dense(1, activation='sigmoid')\n",
    "#     ]\n",
    "# )\n",
    "# model.compile(loss='binary_crossentropy', optimizer='adam', metrics=['accuracy'])\n",
    "# print(model.summary())"
   ]
  },
  {
   "cell_type": "code",
   "execution_count": 10,
   "metadata": {
    "colab": {
     "base_uri": "https://localhost:8080/",
     "height": 1000
    },
    "id": "Vzb9_C-JYErF",
    "outputId": "ee2a5fbe-35b4-42c6-83f4-b40ee8258075"
   },
   "outputs": [
    {
     "name": "stdout",
     "output_type": "stream",
     "text": [
      "Epoch 1/100\n",
      "7/7 [==============================] - 7s 890ms/step - loss: 0.7696 - accuracy: 0.5614 - val_loss: 0.6957 - val_accuracy: 0.5890\n",
      "Epoch 2/100\n",
      "7/7 [==============================] - 6s 820ms/step - loss: 0.6217 - accuracy: 0.6597 - val_loss: 0.6723 - val_accuracy: 0.6042\n",
      "Epoch 3/100\n",
      "7/7 [==============================] - 6s 872ms/step - loss: 0.4970 - accuracy: 0.7732 - val_loss: 0.6748 - val_accuracy: 0.6124\n",
      "Epoch 4/100\n",
      "7/7 [==============================] - 6s 888ms/step - loss: 0.3925 - accuracy: 0.8448 - val_loss: 0.6780 - val_accuracy: 0.6101\n",
      "Epoch 5/100\n",
      "7/7 [==============================] - 6s 890ms/step - loss: 0.3222 - accuracy: 0.8862 - val_loss: 0.6769 - val_accuracy: 0.6183\n",
      "Epoch 6/100\n",
      "7/7 [==============================] - 6s 899ms/step - loss: 0.2777 - accuracy: 0.9128 - val_loss: 0.6975 - val_accuracy: 0.6265\n",
      "Epoch 7/100\n",
      "7/7 [==============================] - 6s 844ms/step - loss: 0.2348 - accuracy: 0.9435 - val_loss: 0.7024 - val_accuracy: 0.6183\n",
      "Epoch 8/100\n",
      "7/7 [==============================] - 6s 840ms/step - loss: 0.2002 - accuracy: 0.9585 - val_loss: 0.7204 - val_accuracy: 0.6253\n",
      "Epoch 9/100\n",
      "7/7 [==============================] - 6s 822ms/step - loss: 0.1648 - accuracy: 0.9744 - val_loss: 0.7294 - val_accuracy: 0.6171\n",
      "Epoch 10/100\n",
      "7/7 [==============================] - 6s 864ms/step - loss: 0.1475 - accuracy: 0.9800 - val_loss: 0.7366 - val_accuracy: 0.6112\n",
      "Epoch 11/100\n",
      "7/7 [==============================] - 6s 820ms/step - loss: 0.1320 - accuracy: 0.9811 - val_loss: 0.7490 - val_accuracy: 0.6124\n",
      "Epoch 12/100\n",
      "7/7 [==============================] - 6s 843ms/step - loss: 0.1119 - accuracy: 0.9853 - val_loss: 0.7674 - val_accuracy: 0.6101\n",
      "Epoch 13/100\n",
      "7/7 [==============================] - 6s 882ms/step - loss: 0.1005 - accuracy: 0.9891 - val_loss: 0.7795 - val_accuracy: 0.6066\n",
      "Epoch 14/100\n",
      "7/7 [==============================] - 6s 897ms/step - loss: 0.0935 - accuracy: 0.9902 - val_loss: 0.7896 - val_accuracy: 0.6042\n",
      "Epoch 15/100\n",
      "7/7 [==============================] - 6s 868ms/step - loss: 0.0820 - accuracy: 0.9912 - val_loss: 0.8039 - val_accuracy: 0.5995\n",
      "Epoch 16/100\n",
      "7/7 [==============================] - 6s 841ms/step - loss: 0.0739 - accuracy: 0.9923 - val_loss: 0.8154 - val_accuracy: 0.6030\n",
      "Epoch 17/100\n",
      "7/7 [==============================] - 6s 856ms/step - loss: 0.0688 - accuracy: 0.9925 - val_loss: 0.8346 - val_accuracy: 0.6019\n",
      "Epoch 18/100\n",
      "7/7 [==============================] - 6s 851ms/step - loss: 0.0637 - accuracy: 0.9912 - val_loss: 0.8491 - val_accuracy: 0.5995\n",
      "Epoch 19/100\n",
      "7/7 [==============================] - 6s 842ms/step - loss: 0.0599 - accuracy: 0.9952 - val_loss: 0.8616 - val_accuracy: 0.6019\n",
      "Epoch 20/100\n",
      "7/7 [==============================] - 6s 847ms/step - loss: 0.0565 - accuracy: 0.9931 - val_loss: 0.8696 - val_accuracy: 0.6019\n",
      "Epoch 21/100\n",
      "7/7 [==============================] - 6s 863ms/step - loss: 0.0498 - accuracy: 0.9953 - val_loss: 0.8861 - val_accuracy: 0.6019\n",
      "Epoch 22/100\n",
      "7/7 [==============================] - 6s 808ms/step - loss: 0.0485 - accuracy: 0.9961 - val_loss: 0.9036 - val_accuracy: 0.6019\n",
      "Epoch 23/100\n",
      "7/7 [==============================] - 6s 856ms/step - loss: 0.0451 - accuracy: 0.9927 - val_loss: 0.9165 - val_accuracy: 0.6042\n",
      "Epoch 24/100\n",
      "7/7 [==============================] - 6s 810ms/step - loss: 0.0444 - accuracy: 0.9951 - val_loss: 0.9302 - val_accuracy: 0.6007\n",
      "Epoch 25/100\n",
      "7/7 [==============================] - 6s 818ms/step - loss: 0.0372 - accuracy: 0.9971 - val_loss: 0.9423 - val_accuracy: 0.6007\n",
      "Epoch 26/100\n",
      "7/7 [==============================] - 6s 821ms/step - loss: 0.0388 - accuracy: 0.9948 - val_loss: 0.9521 - val_accuracy: 0.6030\n",
      "Epoch 27/100\n",
      "7/7 [==============================] - 6s 862ms/step - loss: 0.0397 - accuracy: 0.9958 - val_loss: 0.9621 - val_accuracy: 0.5995\n",
      "Epoch 28/100\n",
      "7/7 [==============================] - 6s 865ms/step - loss: 0.0327 - accuracy: 0.9972 - val_loss: 0.9723 - val_accuracy: 0.5972\n",
      "Epoch 29/100\n",
      "7/7 [==============================] - 6s 880ms/step - loss: 0.0316 - accuracy: 0.9959 - val_loss: 0.9786 - val_accuracy: 0.5972\n",
      "Epoch 30/100\n",
      "7/7 [==============================] - 6s 852ms/step - loss: 0.0304 - accuracy: 0.9955 - val_loss: 0.9941 - val_accuracy: 0.5995\n",
      "Epoch 31/100\n",
      "7/7 [==============================] - 6s 822ms/step - loss: 0.0292 - accuracy: 0.9955 - val_loss: 1.0072 - val_accuracy: 0.5948\n",
      "Epoch 32/100\n",
      "7/7 [==============================] - 6s 872ms/step - loss: 0.0279 - accuracy: 0.9974 - val_loss: 1.0194 - val_accuracy: 0.5948\n",
      "Epoch 33/100\n",
      "7/7 [==============================] - 6s 859ms/step - loss: 0.0265 - accuracy: 0.9959 - val_loss: 1.0299 - val_accuracy: 0.5948\n",
      "Epoch 34/100\n",
      "7/7 [==============================] - 6s 863ms/step - loss: 0.0247 - accuracy: 0.9973 - val_loss: 1.0350 - val_accuracy: 0.5960\n",
      "Epoch 35/100\n",
      "7/7 [==============================] - 6s 848ms/step - loss: 0.0259 - accuracy: 0.9951 - val_loss: 1.0467 - val_accuracy: 0.5937\n",
      "Epoch 36/100\n",
      "7/7 [==============================] - 6s 823ms/step - loss: 0.0258 - accuracy: 0.9959 - val_loss: 1.0473 - val_accuracy: 0.5972\n",
      "Epoch 37/100\n",
      "7/7 [==============================] - 6s 864ms/step - loss: 0.0252 - accuracy: 0.9957 - val_loss: 1.0645 - val_accuracy: 0.5948\n",
      "Epoch 38/100\n",
      "7/7 [==============================] - 6s 905ms/step - loss: 0.0216 - accuracy: 0.9969 - val_loss: 1.0737 - val_accuracy: 0.5937\n",
      "Epoch 39/100\n",
      "7/7 [==============================] - 6s 849ms/step - loss: 0.0215 - accuracy: 0.9950 - val_loss: 1.0851 - val_accuracy: 0.5960\n",
      "Epoch 40/100\n",
      "7/7 [==============================] - 6s 865ms/step - loss: 0.0229 - accuracy: 0.9923 - val_loss: 1.0957 - val_accuracy: 0.5937\n",
      "Epoch 41/100\n",
      "7/7 [==============================] - 6s 831ms/step - loss: 0.0225 - accuracy: 0.9937 - val_loss: 1.1054 - val_accuracy: 0.5937\n",
      "Epoch 42/100\n",
      "7/7 [==============================] - 6s 836ms/step - loss: 0.0214 - accuracy: 0.9967 - val_loss: 1.1124 - val_accuracy: 0.5984\n",
      "Epoch 43/100\n",
      "7/7 [==============================] - 6s 864ms/step - loss: 0.0216 - accuracy: 0.9945 - val_loss: 1.1235 - val_accuracy: 0.5984\n",
      "Epoch 44/100\n",
      "7/7 [==============================] - 6s 867ms/step - loss: 0.0172 - accuracy: 0.9980 - val_loss: 1.1381 - val_accuracy: 0.5913\n",
      "Epoch 45/100\n",
      "7/7 [==============================] - 6s 849ms/step - loss: 0.0192 - accuracy: 0.9961 - val_loss: 1.1448 - val_accuracy: 0.5913\n",
      "Epoch 46/100\n",
      "7/7 [==============================] - 6s 818ms/step - loss: 0.0186 - accuracy: 0.9966 - val_loss: 1.1559 - val_accuracy: 0.5890\n",
      "Epoch 47/100\n",
      "7/7 [==============================] - 6s 853ms/step - loss: 0.0178 - accuracy: 0.9946 - val_loss: 1.1617 - val_accuracy: 0.5902\n",
      "Epoch 48/100\n",
      "7/7 [==============================] - 6s 859ms/step - loss: 0.0173 - accuracy: 0.9977 - val_loss: 1.1707 - val_accuracy: 0.5878\n",
      "Epoch 49/100\n",
      "7/7 [==============================] - 6s 846ms/step - loss: 0.0164 - accuracy: 0.9957 - val_loss: 1.1785 - val_accuracy: 0.5902\n",
      "Epoch 50/100\n",
      "7/7 [==============================] - 6s 818ms/step - loss: 0.0184 - accuracy: 0.9939 - val_loss: 1.1902 - val_accuracy: 0.5913\n",
      "Epoch 51/100\n",
      "7/7 [==============================] - 6s 874ms/step - loss: 0.0164 - accuracy: 0.9978 - val_loss: 1.1987 - val_accuracy: 0.5925\n",
      "Epoch 52/100\n",
      "7/7 [==============================] - 6s 853ms/step - loss: 0.0138 - accuracy: 0.9967 - val_loss: 1.2071 - val_accuracy: 0.5890\n",
      "Epoch 53/100\n",
      "7/7 [==============================] - 6s 833ms/step - loss: 0.0163 - accuracy: 0.9950 - val_loss: 1.2155 - val_accuracy: 0.5902\n",
      "Epoch 54/100\n",
      "7/7 [==============================] - 6s 858ms/step - loss: 0.0170 - accuracy: 0.9937 - val_loss: 1.2191 - val_accuracy: 0.5925\n",
      "Epoch 55/100\n",
      "7/7 [==============================] - 6s 886ms/step - loss: 0.0153 - accuracy: 0.9967 - val_loss: 1.2296 - val_accuracy: 0.5878\n",
      "Epoch 56/100\n",
      "7/7 [==============================] - 6s 853ms/step - loss: 0.0121 - accuracy: 0.9986 - val_loss: 1.2353 - val_accuracy: 0.5843\n",
      "Epoch 57/100\n",
      "7/7 [==============================] - 6s 880ms/step - loss: 0.0124 - accuracy: 0.9970 - val_loss: 1.2388 - val_accuracy: 0.5855\n",
      "Epoch 58/100\n",
      "7/7 [==============================] - ETA: 0s - loss: 0.0135 - accuracy: 0.9974"
     ]
    },
    {
     "ename": "KeyboardInterrupt",
     "evalue": "ignored",
     "output_type": "error",
     "traceback": [
      "\u001b[0;31m---------------------------------------------------------------------------\u001b[0m",
      "\u001b[0;31mKeyboardInterrupt\u001b[0m                         Traceback (most recent call last)",
      "\u001b[0;32m<ipython-input-10-5f7e6d099d44>\u001b[0m in \u001b[0;36m<module>\u001b[0;34m()\u001b[0m\n\u001b[0;32m----> 1\u001b[0;31m \u001b[0mhistory\u001b[0m \u001b[0;34m=\u001b[0m \u001b[0mmodel\u001b[0m\u001b[0;34m.\u001b[0m\u001b[0mfit\u001b[0m\u001b[0;34m(\u001b[0m\u001b[0mX_train\u001b[0m\u001b[0;34m,\u001b[0m\u001b[0my_train\u001b[0m\u001b[0;34m,\u001b[0m\u001b[0mbatch_size\u001b[0m \u001b[0;34m=\u001b[0m \u001b[0;36m500\u001b[0m\u001b[0;34m,\u001b[0m\u001b[0mepochs\u001b[0m\u001b[0;34m=\u001b[0m\u001b[0;36m100\u001b[0m\u001b[0;34m,\u001b[0m\u001b[0mvalidation_data\u001b[0m\u001b[0;34m=\u001b[0m\u001b[0;34m(\u001b[0m\u001b[0mX_valid\u001b[0m\u001b[0;34m,\u001b[0m\u001b[0my_valid\u001b[0m\u001b[0;34m)\u001b[0m\u001b[0;34m,\u001b[0m\u001b[0mverbose\u001b[0m\u001b[0;34m=\u001b[0m\u001b[0;32mTrue\u001b[0m\u001b[0;34m)\u001b[0m\u001b[0;34m\u001b[0m\u001b[0;34m\u001b[0m\u001b[0m\n\u001b[0m",
      "\u001b[0;32m/usr/local/lib/python3.6/dist-packages/tensorflow/python/keras/engine/training.py\u001b[0m in \u001b[0;36mfit\u001b[0;34m(self, x, y, batch_size, epochs, verbose, callbacks, validation_split, validation_data, shuffle, class_weight, sample_weight, initial_epoch, steps_per_epoch, validation_steps, validation_batch_size, validation_freq, max_queue_size, workers, use_multiprocessing)\u001b[0m\n\u001b[1;32m   1139\u001b[0m               \u001b[0mworkers\u001b[0m\u001b[0;34m=\u001b[0m\u001b[0mworkers\u001b[0m\u001b[0;34m,\u001b[0m\u001b[0;34m\u001b[0m\u001b[0;34m\u001b[0m\u001b[0m\n\u001b[1;32m   1140\u001b[0m               \u001b[0muse_multiprocessing\u001b[0m\u001b[0;34m=\u001b[0m\u001b[0muse_multiprocessing\u001b[0m\u001b[0;34m,\u001b[0m\u001b[0;34m\u001b[0m\u001b[0;34m\u001b[0m\u001b[0m\n\u001b[0;32m-> 1141\u001b[0;31m               return_dict=True)\n\u001b[0m\u001b[1;32m   1142\u001b[0m           \u001b[0mval_logs\u001b[0m \u001b[0;34m=\u001b[0m \u001b[0;34m{\u001b[0m\u001b[0;34m'val_'\u001b[0m \u001b[0;34m+\u001b[0m \u001b[0mname\u001b[0m\u001b[0;34m:\u001b[0m \u001b[0mval\u001b[0m \u001b[0;32mfor\u001b[0m \u001b[0mname\u001b[0m\u001b[0;34m,\u001b[0m \u001b[0mval\u001b[0m \u001b[0;32min\u001b[0m \u001b[0mval_logs\u001b[0m\u001b[0;34m.\u001b[0m\u001b[0mitems\u001b[0m\u001b[0;34m(\u001b[0m\u001b[0;34m)\u001b[0m\u001b[0;34m}\u001b[0m\u001b[0;34m\u001b[0m\u001b[0;34m\u001b[0m\u001b[0m\n\u001b[1;32m   1143\u001b[0m           \u001b[0mepoch_logs\u001b[0m\u001b[0;34m.\u001b[0m\u001b[0mupdate\u001b[0m\u001b[0;34m(\u001b[0m\u001b[0mval_logs\u001b[0m\u001b[0;34m)\u001b[0m\u001b[0;34m\u001b[0m\u001b[0;34m\u001b[0m\u001b[0m\n",
      "\u001b[0;32m/usr/local/lib/python3.6/dist-packages/tensorflow/python/keras/engine/training.py\u001b[0m in \u001b[0;36mevaluate\u001b[0;34m(self, x, y, batch_size, verbose, sample_weight, steps, callbacks, max_queue_size, workers, use_multiprocessing, return_dict)\u001b[0m\n\u001b[1;32m   1387\u001b[0m             \u001b[0;32mwith\u001b[0m \u001b[0mtrace\u001b[0m\u001b[0;34m.\u001b[0m\u001b[0mTrace\u001b[0m\u001b[0;34m(\u001b[0m\u001b[0;34m'test'\u001b[0m\u001b[0;34m,\u001b[0m \u001b[0mstep_num\u001b[0m\u001b[0;34m=\u001b[0m\u001b[0mstep\u001b[0m\u001b[0;34m,\u001b[0m \u001b[0m_r\u001b[0m\u001b[0;34m=\u001b[0m\u001b[0;36m1\u001b[0m\u001b[0;34m)\u001b[0m\u001b[0;34m:\u001b[0m\u001b[0;34m\u001b[0m\u001b[0;34m\u001b[0m\u001b[0m\n\u001b[1;32m   1388\u001b[0m               \u001b[0mcallbacks\u001b[0m\u001b[0;34m.\u001b[0m\u001b[0mon_test_batch_begin\u001b[0m\u001b[0;34m(\u001b[0m\u001b[0mstep\u001b[0m\u001b[0;34m)\u001b[0m\u001b[0;34m\u001b[0m\u001b[0;34m\u001b[0m\u001b[0m\n\u001b[0;32m-> 1389\u001b[0;31m               \u001b[0mtmp_logs\u001b[0m \u001b[0;34m=\u001b[0m \u001b[0mself\u001b[0m\u001b[0;34m.\u001b[0m\u001b[0mtest_function\u001b[0m\u001b[0;34m(\u001b[0m\u001b[0miterator\u001b[0m\u001b[0;34m)\u001b[0m\u001b[0;34m\u001b[0m\u001b[0;34m\u001b[0m\u001b[0m\n\u001b[0m\u001b[1;32m   1390\u001b[0m               \u001b[0;32mif\u001b[0m \u001b[0mdata_handler\u001b[0m\u001b[0;34m.\u001b[0m\u001b[0mshould_sync\u001b[0m\u001b[0;34m:\u001b[0m\u001b[0;34m\u001b[0m\u001b[0;34m\u001b[0m\u001b[0m\n\u001b[1;32m   1391\u001b[0m                 \u001b[0mcontext\u001b[0m\u001b[0;34m.\u001b[0m\u001b[0masync_wait\u001b[0m\u001b[0;34m(\u001b[0m\u001b[0;34m)\u001b[0m\u001b[0;34m\u001b[0m\u001b[0;34m\u001b[0m\u001b[0m\n",
      "\u001b[0;32m/usr/local/lib/python3.6/dist-packages/tensorflow/python/eager/def_function.py\u001b[0m in \u001b[0;36m__call__\u001b[0;34m(self, *args, **kwds)\u001b[0m\n\u001b[1;32m    826\u001b[0m     \u001b[0mtracing_count\u001b[0m \u001b[0;34m=\u001b[0m \u001b[0mself\u001b[0m\u001b[0;34m.\u001b[0m\u001b[0mexperimental_get_tracing_count\u001b[0m\u001b[0;34m(\u001b[0m\u001b[0;34m)\u001b[0m\u001b[0;34m\u001b[0m\u001b[0;34m\u001b[0m\u001b[0m\n\u001b[1;32m    827\u001b[0m     \u001b[0;32mwith\u001b[0m \u001b[0mtrace\u001b[0m\u001b[0;34m.\u001b[0m\u001b[0mTrace\u001b[0m\u001b[0;34m(\u001b[0m\u001b[0mself\u001b[0m\u001b[0;34m.\u001b[0m\u001b[0m_name\u001b[0m\u001b[0;34m)\u001b[0m \u001b[0;32mas\u001b[0m \u001b[0mtm\u001b[0m\u001b[0;34m:\u001b[0m\u001b[0;34m\u001b[0m\u001b[0;34m\u001b[0m\u001b[0m\n\u001b[0;32m--> 828\u001b[0;31m       \u001b[0mresult\u001b[0m \u001b[0;34m=\u001b[0m \u001b[0mself\u001b[0m\u001b[0;34m.\u001b[0m\u001b[0m_call\u001b[0m\u001b[0;34m(\u001b[0m\u001b[0;34m*\u001b[0m\u001b[0margs\u001b[0m\u001b[0;34m,\u001b[0m \u001b[0;34m**\u001b[0m\u001b[0mkwds\u001b[0m\u001b[0;34m)\u001b[0m\u001b[0;34m\u001b[0m\u001b[0;34m\u001b[0m\u001b[0m\n\u001b[0m\u001b[1;32m    829\u001b[0m       \u001b[0mcompiler\u001b[0m \u001b[0;34m=\u001b[0m \u001b[0;34m\"xla\"\u001b[0m \u001b[0;32mif\u001b[0m \u001b[0mself\u001b[0m\u001b[0;34m.\u001b[0m\u001b[0m_experimental_compile\u001b[0m \u001b[0;32melse\u001b[0m \u001b[0;34m\"nonXla\"\u001b[0m\u001b[0;34m\u001b[0m\u001b[0;34m\u001b[0m\u001b[0m\n\u001b[1;32m    830\u001b[0m       \u001b[0mnew_tracing_count\u001b[0m \u001b[0;34m=\u001b[0m \u001b[0mself\u001b[0m\u001b[0;34m.\u001b[0m\u001b[0mexperimental_get_tracing_count\u001b[0m\u001b[0;34m(\u001b[0m\u001b[0;34m)\u001b[0m\u001b[0;34m\u001b[0m\u001b[0;34m\u001b[0m\u001b[0m\n",
      "\u001b[0;32m/usr/local/lib/python3.6/dist-packages/tensorflow/python/eager/def_function.py\u001b[0m in \u001b[0;36m_call\u001b[0;34m(self, *args, **kwds)\u001b[0m\n\u001b[1;32m    860\u001b[0m       \u001b[0;31m# In this case we have not created variables on the first call. So we can\u001b[0m\u001b[0;34m\u001b[0m\u001b[0;34m\u001b[0m\u001b[0;34m\u001b[0m\u001b[0m\n\u001b[1;32m    861\u001b[0m       \u001b[0;31m# run the first trace but we should fail if variables are created.\u001b[0m\u001b[0;34m\u001b[0m\u001b[0;34m\u001b[0m\u001b[0;34m\u001b[0m\u001b[0m\n\u001b[0;32m--> 862\u001b[0;31m       \u001b[0mresults\u001b[0m \u001b[0;34m=\u001b[0m \u001b[0mself\u001b[0m\u001b[0;34m.\u001b[0m\u001b[0m_stateful_fn\u001b[0m\u001b[0;34m(\u001b[0m\u001b[0;34m*\u001b[0m\u001b[0margs\u001b[0m\u001b[0;34m,\u001b[0m \u001b[0;34m**\u001b[0m\u001b[0mkwds\u001b[0m\u001b[0;34m)\u001b[0m\u001b[0;34m\u001b[0m\u001b[0;34m\u001b[0m\u001b[0m\n\u001b[0m\u001b[1;32m    863\u001b[0m       \u001b[0;32mif\u001b[0m \u001b[0mself\u001b[0m\u001b[0;34m.\u001b[0m\u001b[0m_created_variables\u001b[0m\u001b[0;34m:\u001b[0m\u001b[0;34m\u001b[0m\u001b[0;34m\u001b[0m\u001b[0m\n\u001b[1;32m    864\u001b[0m         raise ValueError(\"Creating variables on a non-first call to a function\"\n",
      "\u001b[0;32m/usr/local/lib/python3.6/dist-packages/tensorflow/python/eager/function.py\u001b[0m in \u001b[0;36m__call__\u001b[0;34m(self, *args, **kwargs)\u001b[0m\n\u001b[1;32m   2941\u001b[0m        filtered_flat_args) = self._maybe_define_function(args, kwargs)\n\u001b[1;32m   2942\u001b[0m     return graph_function._call_flat(\n\u001b[0;32m-> 2943\u001b[0;31m         filtered_flat_args, captured_inputs=graph_function.captured_inputs)  # pylint: disable=protected-access\n\u001b[0m\u001b[1;32m   2944\u001b[0m \u001b[0;34m\u001b[0m\u001b[0m\n\u001b[1;32m   2945\u001b[0m   \u001b[0;34m@\u001b[0m\u001b[0mproperty\u001b[0m\u001b[0;34m\u001b[0m\u001b[0;34m\u001b[0m\u001b[0m\n",
      "\u001b[0;32m/usr/local/lib/python3.6/dist-packages/tensorflow/python/eager/function.py\u001b[0m in \u001b[0;36m_call_flat\u001b[0;34m(self, args, captured_inputs, cancellation_manager)\u001b[0m\n\u001b[1;32m   1917\u001b[0m       \u001b[0;31m# No tape is watching; skip to running the function.\u001b[0m\u001b[0;34m\u001b[0m\u001b[0;34m\u001b[0m\u001b[0;34m\u001b[0m\u001b[0m\n\u001b[1;32m   1918\u001b[0m       return self._build_call_outputs(self._inference_function.call(\n\u001b[0;32m-> 1919\u001b[0;31m           ctx, args, cancellation_manager=cancellation_manager))\n\u001b[0m\u001b[1;32m   1920\u001b[0m     forward_backward = self._select_forward_and_backward_functions(\n\u001b[1;32m   1921\u001b[0m         \u001b[0margs\u001b[0m\u001b[0;34m,\u001b[0m\u001b[0;34m\u001b[0m\u001b[0;34m\u001b[0m\u001b[0m\n",
      "\u001b[0;32m/usr/local/lib/python3.6/dist-packages/tensorflow/python/eager/function.py\u001b[0m in \u001b[0;36mcall\u001b[0;34m(self, ctx, args, cancellation_manager)\u001b[0m\n\u001b[1;32m    558\u001b[0m               \u001b[0minputs\u001b[0m\u001b[0;34m=\u001b[0m\u001b[0margs\u001b[0m\u001b[0;34m,\u001b[0m\u001b[0;34m\u001b[0m\u001b[0;34m\u001b[0m\u001b[0m\n\u001b[1;32m    559\u001b[0m               \u001b[0mattrs\u001b[0m\u001b[0;34m=\u001b[0m\u001b[0mattrs\u001b[0m\u001b[0;34m,\u001b[0m\u001b[0;34m\u001b[0m\u001b[0;34m\u001b[0m\u001b[0m\n\u001b[0;32m--> 560\u001b[0;31m               ctx=ctx)\n\u001b[0m\u001b[1;32m    561\u001b[0m         \u001b[0;32melse\u001b[0m\u001b[0;34m:\u001b[0m\u001b[0;34m\u001b[0m\u001b[0;34m\u001b[0m\u001b[0m\n\u001b[1;32m    562\u001b[0m           outputs = execute.execute_with_cancellation(\n",
      "\u001b[0;32m/usr/local/lib/python3.6/dist-packages/tensorflow/python/eager/execute.py\u001b[0m in \u001b[0;36mquick_execute\u001b[0;34m(op_name, num_outputs, inputs, attrs, ctx, name)\u001b[0m\n\u001b[1;32m     58\u001b[0m     \u001b[0mctx\u001b[0m\u001b[0;34m.\u001b[0m\u001b[0mensure_initialized\u001b[0m\u001b[0;34m(\u001b[0m\u001b[0;34m)\u001b[0m\u001b[0;34m\u001b[0m\u001b[0;34m\u001b[0m\u001b[0m\n\u001b[1;32m     59\u001b[0m     tensors = pywrap_tfe.TFE_Py_Execute(ctx._handle, device_name, op_name,\n\u001b[0;32m---> 60\u001b[0;31m                                         inputs, attrs, num_outputs)\n\u001b[0m\u001b[1;32m     61\u001b[0m   \u001b[0;32mexcept\u001b[0m \u001b[0mcore\u001b[0m\u001b[0;34m.\u001b[0m\u001b[0m_NotOkStatusException\u001b[0m \u001b[0;32mas\u001b[0m \u001b[0me\u001b[0m\u001b[0;34m:\u001b[0m\u001b[0;34m\u001b[0m\u001b[0;34m\u001b[0m\u001b[0m\n\u001b[1;32m     62\u001b[0m     \u001b[0;32mif\u001b[0m \u001b[0mname\u001b[0m \u001b[0;32mis\u001b[0m \u001b[0;32mnot\u001b[0m \u001b[0;32mNone\u001b[0m\u001b[0;34m:\u001b[0m\u001b[0;34m\u001b[0m\u001b[0;34m\u001b[0m\u001b[0m\n",
      "\u001b[0;31mKeyboardInterrupt\u001b[0m: "
     ]
    }
   ],
   "source": [
    "# history = model.fit(X_train,y_train,batch_size = 500,epochs=20,validation_data=(X_valid,y_valid),verbose=True)"
   ]
  },
  {
   "cell_type": "code",
   "execution_count": null,
   "metadata": {
    "id": "N-PM4yeaYdBF"
   },
   "outputs": [],
   "source": [
    "# model.save(\"/content/drive/MyDrive/spam-detector/svm.model\",save_format=\"h5\")"
   ]
  },
  {
   "cell_type": "code",
   "execution_count": 18,
   "metadata": {
    "id": "f6a8mC43k9F0"
   },
   "outputs": [],
   "source": [
    "from sklearn.svm import SVC"
   ]
  },
  {
   "cell_type": "code",
   "execution_count": 20,
   "metadata": {
    "id": "_KclMw4OlTLU"
   },
   "outputs": [],
   "source": [
    "clf = SVC(C=3.0,kernel='rbf',verbose=True,tol=1e-4)"
   ]
  },
  {
   "cell_type": "code",
   "execution_count": 21,
   "metadata": {
    "colab": {
     "base_uri": "https://localhost:8080/"
    },
    "id": "6oYF07gbmMO2",
    "outputId": "f26240aa-d3a3-44e7-f8ee-b47f1c196b40"
   },
   "outputs": [
    {
     "name": "stdout",
     "output_type": "stream",
     "text": [
      "[LibSVM]"
     ]
    },
    {
     "data": {
      "text/plain": [
       "SVC(C=3.0, break_ties=False, cache_size=200, class_weight=None, coef0=0.0,\n",
       "    decision_function_shape='ovr', degree=3, gamma='scale', kernel='rbf',\n",
       "    max_iter=-1, probability=False, random_state=None, shrinking=True,\n",
       "    tol=0.0001, verbose=True)"
      ]
     },
     "execution_count": 21,
     "metadata": {
      "tags": []
     },
     "output_type": "execute_result"
    }
   ],
   "source": [
    "clf.fit(X_train,y_train)"
   ]
  },
  {
   "cell_type": "code",
   "execution_count": 22,
   "metadata": {
    "colab": {
     "base_uri": "https://localhost:8080/"
    },
    "id": "U3xEiRGZmSDI",
    "outputId": "2c743ddc-86cf-4ad9-daa7-fed5337376f4"
   },
   "outputs": [
    {
     "data": {
      "text/plain": [
       "0.9027136258660509"
      ]
     },
     "execution_count": 22,
     "metadata": {
      "tags": []
     },
     "output_type": "execute_result"
    }
   ],
   "source": [
    "clf.score(X_train,y_train)"
   ]
  },
  {
   "cell_type": "code",
   "execution_count": 23,
   "metadata": {
    "colab": {
     "base_uri": "https://localhost:8080/"
    },
    "id": "dAkOarqfmi6K",
    "outputId": "702c0afb-e5c5-4553-af10-d824fd2da892"
   },
   "outputs": [
    {
     "name": "stdout",
     "output_type": "stream",
     "text": [
      "0.5919165580182529\n"
     ]
    }
   ],
   "source": [
    "y_pred = clf.predict(X_test)\n",
    "from sklearn.metrics import f1_score\n",
    "print(f1_score(y_test,y_pred))"
   ]
  },
  {
   "cell_type": "code",
   "execution_count": 24,
   "metadata": {
    "colab": {
     "base_uri": "https://localhost:8080/"
    },
    "id": "dbh_QaMomuwJ",
    "outputId": "f6f60064-169c-47f8-ba29-b4fba26a6b1d"
   },
   "outputs": [
    {
     "name": "stdout",
     "output_type": "stream",
     "text": [
      "[[1167   79]\n",
      " [ 234  227]]\n"
     ]
    }
   ],
   "source": [
    "from sklearn.metrics import confusion_matrix\n",
    "print(confusion_matrix(y_test,y_pred))"
   ]
  },
  {
   "cell_type": "code",
   "execution_count": 25,
   "metadata": {
    "colab": {
     "base_uri": "https://localhost:8080/"
    },
    "id": "E_IWOiXAmx5V",
    "outputId": "d708405e-162f-45a9-dbb8-88d7437b8e7f"
   },
   "outputs": [
    {
     "data": {
      "text/plain": [
       "0.8166373755125952"
      ]
     },
     "execution_count": 25,
     "metadata": {
      "tags": []
     },
     "output_type": "execute_result"
    }
   ],
   "source": [
    "clf.score(X_test,y_test)"
   ]
  },
  {
   "cell_type": "code",
   "execution_count": 26,
   "metadata": {
    "colab": {
     "base_uri": "https://localhost:8080/"
    },
    "id": "aSwtYpfWnExH",
    "outputId": "cbeceb58-22a7-49d8-d30b-26bf98911c39"
   },
   "outputs": [
    {
     "name": "stdout",
     "output_type": "stream",
     "text": [
      "0.8166373755125952\n"
     ]
    }
   ],
   "source": [
    "from sklearn.metrics import accuracy_score\n",
    "print(accuracy_score(y_test,y_pred))"
   ]
  },
  {
   "cell_type": "code",
   "execution_count": null,
   "metadata": {
    "id": "5F56-LN3nmgJ"
   },
   "outputs": [],
   "source": []
  }
 ],
 "metadata": {
  "colab": {
   "name": "svm.ipynb",
   "provenance": []
  },
  "kernelspec": {
   "display_name": "Python 3",
   "language": "python",
   "name": "python3"
  },
  "language_info": {
   "codemirror_mode": {
    "name": "ipython",
    "version": 3
   },
   "file_extension": ".py",
   "mimetype": "text/x-python",
   "name": "python",
   "nbconvert_exporter": "python",
   "pygments_lexer": "ipython3",
   "version": "3.8.3"
  }
 },
 "nbformat": 4,
 "nbformat_minor": 1
}
