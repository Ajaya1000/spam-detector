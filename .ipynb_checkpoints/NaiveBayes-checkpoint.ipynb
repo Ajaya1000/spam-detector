{
 "cells": [
  {
   "cell_type": "markdown",
   "metadata": {
    "id": "X2UZRA9KOfkm"
   },
   "source": [
    "# Data preprocessing"
   ]
  },
  {
   "cell_type": "code",
   "execution_count": 55,
   "metadata": {
    "id": "sphc2fv6MXdv"
   },
   "outputs": [],
   "source": [
    "import numpy as np\n",
    "import pandas as pd\n",
    "import string"
   ]
  },
  {
   "cell_type": "code",
   "execution_count": 56,
   "metadata": {
    "id": "ypLpzmMkOpvy"
   },
   "outputs": [],
   "source": [
    "dataset = pd.read_csv('/content/drive/MyDrive/dataset/data.csv')\n",
    "tempo = np.array(dataset[['text','label_num']])\n",
    "\n",
    "X = np.array(tempo[:,0])\n",
    "y = np.array(tempo[:,-1]).astype('float32')"
   ]
  },
  {
   "cell_type": "code",
   "execution_count": 57,
   "metadata": {
    "id": "3onXD54hOszt"
   },
   "outputs": [],
   "source": [
    "#lower case\n",
    "#removing Punctuation\n",
    "transTable = str.maketrans(dict.fromkeys(string.punctuation))\n",
    "X = np.array([sen.lower().translate(transTable) for sen in X])\n",
    "\n",
    "import re\n",
    "def remove_hyperlink(word):\n",
    "    return re.sub(r\"http\\S+\", \"\", word)\n",
    "\n",
    "X = np.array([remove_hyperlink(sen) for sen in X])"
   ]
  },
  {
   "cell_type": "code",
   "execution_count": 58,
   "metadata": {
    "colab": {
     "base_uri": "https://localhost:8080/"
    },
    "id": "8QZEYkwrO2IJ",
    "outputId": "18d57bd8-3a45-42ca-9f82-e0bde6c22e89"
   },
   "outputs": [
    {
     "name": "stderr",
     "output_type": "stream",
     "text": [
      "/usr/local/lib/python3.6/dist-packages/ipykernel_launcher.py:5: VisibleDeprecationWarning: Creating an ndarray from ragged nested sequences (which is a list-or-tuple of lists-or-tuples-or ndarrays with different lengths or shapes) is deprecated. If you meant to do this, you must specify 'dtype=object' when creating the ndarray\n",
      "  \"\"\"\n"
     ]
    }
   ],
   "source": [
    "max_feature = 50000\n",
    "from keras.preprocessing.text import Tokenizer\n",
    "tokenizer = Tokenizer(num_words=max_feature)\n",
    "tokenizer.fit_on_texts(X)\n",
    "X_features =  np.array(tokenizer.texts_to_sequences(X))\n",
    "\n",
    "max_len = 0;\n",
    "for arr in X_features:\n",
    "    max_len = max(max_len,len(arr))\n",
    "\n",
    "from keras.preprocessing.sequence import pad_sequences\n",
    "X_features = pad_sequences(X_features,maxlen=max_len,padding='post')"
   ]
  },
  {
   "cell_type": "code",
   "execution_count": 59,
   "metadata": {
    "colab": {
     "base_uri": "https://localhost:8080/"
    },
    "id": "KMXDEGpwO_HR",
    "outputId": "de821fb7-fc69-4b2e-8964-b3cd225beade"
   },
   "outputs": [
    {
     "name": "stdout",
     "output_type": "stream",
     "text": [
      "[[9.0000e+00 1.7000e+01 1.0420e+03 ... 0.0000e+00 0.0000e+00 0.0000e+00]\n",
      " [9.0000e+00 4.7000e+01 1.4700e+02 ... 0.0000e+00 0.0000e+00 0.0000e+00]\n",
      " [9.0000e+00 1.4390e+03 2.7143e+04 ... 0.0000e+00 0.0000e+00 0.0000e+00]\n",
      " ...\n",
      " [9.0000e+00 7.0300e+02 2.4000e+02 ... 0.0000e+00 0.0000e+00 0.0000e+00]\n",
      " [9.0000e+00 1.0630e+03 9.4280e+03 ... 0.0000e+00 0.0000e+00 0.0000e+00]\n",
      " [9.0000e+00 9.0600e+02 3.2900e+02 ... 0.0000e+00 0.0000e+00 0.0000e+00]]\n"
     ]
    }
   ],
   "source": [
    "X_features = X_features.astype('float32')\n",
    "\n",
    "print(X_features)"
   ]
  },
  {
   "cell_type": "code",
   "execution_count": 60,
   "metadata": {
    "id": "Rc5w-PL1SjNW"
   },
   "outputs": [],
   "source": [
    "# from sklearn.preprocessing import Normalizer\n",
    "# norm = Normalizer()\n",
    "# X_features=norm.fit_transform(X_features)"
   ]
  },
  {
   "cell_type": "code",
   "execution_count": 61,
   "metadata": {
    "colab": {
     "base_uri": "https://localhost:8080/"
    },
    "id": "0WL1lLntQBga",
    "outputId": "081834f7-864b-465f-af3d-19120de9342c"
   },
   "outputs": [
    {
     "data": {
      "text/plain": [
       "array([[9.0000e+00, 1.7000e+01, 1.0420e+03, ..., 0.0000e+00, 0.0000e+00,\n",
       "        0.0000e+00],\n",
       "       [9.0000e+00, 4.7000e+01, 1.4700e+02, ..., 0.0000e+00, 0.0000e+00,\n",
       "        0.0000e+00],\n",
       "       [9.0000e+00, 1.4390e+03, 2.7143e+04, ..., 0.0000e+00, 0.0000e+00,\n",
       "        0.0000e+00],\n",
       "       ...,\n",
       "       [9.0000e+00, 7.0300e+02, 2.4000e+02, ..., 0.0000e+00, 0.0000e+00,\n",
       "        0.0000e+00],\n",
       "       [9.0000e+00, 1.0630e+03, 9.4280e+03, ..., 0.0000e+00, 0.0000e+00,\n",
       "        0.0000e+00],\n",
       "       [9.0000e+00, 9.0600e+02, 3.2900e+02, ..., 0.0000e+00, 0.0000e+00,\n",
       "        0.0000e+00]], dtype=float32)"
      ]
     },
     "execution_count": 61,
     "metadata": {
      "tags": []
     },
     "output_type": "execute_result"
    }
   ],
   "source": [
    "X_features"
   ]
  },
  {
   "cell_type": "code",
   "execution_count": 62,
   "metadata": {
    "id": "EdUcp-kSPEWu"
   },
   "outputs": [],
   "source": [
    "from sklearn.model_selection import train_test_split as tts\n",
    "\n",
    "X_train, X_test, y_train, y_test = tts(X_features, y, test_size=0.33, random_state=42,shuffle=True)"
   ]
  },
  {
   "cell_type": "code",
   "execution_count": 63,
   "metadata": {
    "id": "PCGFY_xLPR8t"
   },
   "outputs": [],
   "source": [
    "from sklearn.naive_bayes import MultinomialNB"
   ]
  },
  {
   "cell_type": "code",
   "execution_count": 64,
   "metadata": {
    "colab": {
     "base_uri": "https://localhost:8080/"
    },
    "id": "PBJe8qhFQZZW",
    "outputId": "73c94b39-6517-42d9-c3ae-984ede814eb0"
   },
   "outputs": [
    {
     "data": {
      "text/plain": [
       "MultinomialNB(alpha=1.0, class_prior=None, fit_prior=True)"
      ]
     },
     "execution_count": 64,
     "metadata": {
      "tags": []
     },
     "output_type": "execute_result"
    }
   ],
   "source": [
    "clf = MultinomialNB()\n",
    "clf.fit(X_train,y_train)"
   ]
  },
  {
   "cell_type": "code",
   "execution_count": 65,
   "metadata": {
    "colab": {
     "base_uri": "https://localhost:8080/"
    },
    "id": "xihvm8MtQ2D2",
    "outputId": "92cd0495-2796-4aaf-bbb9-0346af891b75"
   },
   "outputs": [
    {
     "data": {
      "text/plain": [
       "0.6157621247113164"
      ]
     },
     "execution_count": 65,
     "metadata": {
      "tags": []
     },
     "output_type": "execute_result"
    }
   ],
   "source": [
    "clf.score(X_train,y_train)"
   ]
  },
  {
   "cell_type": "code",
   "execution_count": 66,
   "metadata": {
    "colab": {
     "base_uri": "https://localhost:8080/"
    },
    "id": "0YrLWV6fRCpS",
    "outputId": "6d41520c-f5b6-4882-9deb-74d36c4292c5"
   },
   "outputs": [
    {
     "data": {
      "text/plain": [
       "0.5823081429408319"
      ]
     },
     "execution_count": 66,
     "metadata": {
      "tags": []
     },
     "output_type": "execute_result"
    }
   ],
   "source": [
    "clf.score(X_test,y_test)"
   ]
  },
  {
   "cell_type": "code",
   "execution_count": 67,
   "metadata": {
    "colab": {
     "base_uri": "https://localhost:8080/"
    },
    "id": "y1c8xTyyRLYQ",
    "outputId": "9e20389d-9def-433a-9566-8bce70097b0c"
   },
   "outputs": [
    {
     "name": "stdout",
     "output_type": "stream",
     "text": [
      "0.25496342737722044\n"
     ]
    }
   ],
   "source": [
    "y_pred = clf.predict(X_test)\n",
    "from sklearn.metrics import f1_score\n",
    "print(f1_score(y_test,y_pred))"
   ]
  },
  {
   "cell_type": "code",
   "execution_count": 68,
   "metadata": {
    "colab": {
     "base_uri": "https://localhost:8080/"
    },
    "id": "mARD_1PNT1tD",
    "outputId": "e0acd327-3fe4-4f0f-e392-34bef82b7e0d"
   },
   "outputs": [
    {
     "name": "stdout",
     "output_type": "stream",
     "text": [
      "[[872 374]\n",
      " [339 122]]\n"
     ]
    }
   ],
   "source": [
    "from sklearn.metrics import confusion_matrix\n",
    "print(confusion_matrix(y_test,y_pred))"
   ]
  },
  {
   "cell_type": "code",
   "execution_count": 68,
   "metadata": {
    "id": "L8vcjIQ3UFrO"
   },
   "outputs": [],
   "source": []
  }
 ],
 "metadata": {
  "colab": {
   "name": "svm-sd.ipynb",
   "provenance": [],
   "toc_visible": true
  },
  "kernelspec": {
   "display_name": "Python 3",
   "language": "python",
   "name": "python3"
  },
  "language_info": {
   "codemirror_mode": {
    "name": "ipython",
    "version": 3
   },
   "file_extension": ".py",
   "mimetype": "text/x-python",
   "name": "python",
   "nbconvert_exporter": "python",
   "pygments_lexer": "ipython3",
   "version": "3.8.3"
  }
 },
 "nbformat": 4,
 "nbformat_minor": 1
}
