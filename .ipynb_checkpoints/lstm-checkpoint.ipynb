{
 "cells": [
  {
   "cell_type": "code",
   "execution_count": null,
   "metadata": {
    "id": "Ahs3keFzz0da"
   },
   "outputs": [],
   "source": [
    "import numpy as np\n",
    "import pandas as pd\n",
    "import string\n"
   ]
  },
  {
   "cell_type": "code",
   "execution_count": null,
   "metadata": {
    "id": "cX_dwEwV1Mk7"
   },
   "outputs": [],
   "source": [
    "dataset = pd.read_csv('/content/drive/MyDrive/dataset/data.csv')\n",
    "tempo = np.array(dataset[['text','label_num']])\n",
    "\n",
    "X = np.array(tempo[:,0])\n",
    "y = np.array(tempo[:,-1]).astype('float32')\n"
   ]
  },
  {
   "cell_type": "code",
   "execution_count": null,
   "metadata": {
    "id": "ZXDz8kDl1UX7"
   },
   "outputs": [],
   "source": [
    "#lower case\n",
    "#removing Punctuation\n",
    "transTable = str.maketrans(dict.fromkeys(string.punctuation))\n",
    "X = np.array([sen.lower().translate(transTable) for sen in X])\n",
    "\n",
    "import re\n",
    "def remove_hyperlink(word):\n",
    "    return re.sub(r\"http\\S+\", \"\", word)\n",
    "\n",
    "X = np.array([remove_hyperlink(sen) for sen in X])\n"
   ]
  },
  {
   "cell_type": "code",
   "execution_count": null,
   "metadata": {
    "colab": {
     "base_uri": "https://localhost:8080/"
    },
    "id": "dS3GCfpl1xwr",
    "outputId": "a189b106-7f2f-4623-8aea-1f6d64c1b566"
   },
   "outputs": [
    {
     "name": "stderr",
     "output_type": "stream",
     "text": [
      "/usr/local/lib/python3.6/dist-packages/ipykernel_launcher.py:5: VisibleDeprecationWarning: Creating an ndarray from ragged nested sequences (which is a list-or-tuple of lists-or-tuples-or ndarrays with different lengths or shapes) is deprecated. If you meant to do this, you must specify 'dtype=object' when creating the ndarray\n",
      "  \"\"\"\n"
     ]
    }
   ],
   "source": [
    "max_feature = 50000\n",
    "from keras.preprocessing.text import Tokenizer\n",
    "tokenizer = Tokenizer(num_words=max_feature)\n",
    "tokenizer.fit_on_texts(X)\n",
    "X_features =  np.array(tokenizer.texts_to_sequences(X))\n",
    "\n",
    "max_len = 0;\n",
    "for arr in X_features:\n",
    "    max_len = max(max_len,len(arr))\n",
    "\n",
    "from keras.preprocessing.sequence import pad_sequences\n",
    "X_features = pad_sequences(X_features,maxlen=max_len,padding='post')\n"
   ]
  },
  {
   "cell_type": "code",
   "execution_count": null,
   "metadata": {
    "id": "k2RciWo512Fm"
   },
   "outputs": [],
   "source": [
    "from sklearn.model_selection import train_test_split as tts\n",
    "\n",
    "X_train, X_test, y_train, y_test = tts(X_features, y, test_size=0.33, random_state=42,shuffle=True)\n",
    "X_test, X_valid, y_test, y_valid = tts(X_test, y_test, test_size=0.5, random_state=42,shuffle=True)\n"
   ]
  },
  {
   "cell_type": "code",
   "execution_count": null,
   "metadata": {
    "colab": {
     "base_uri": "https://localhost:8080/"
    },
    "id": "Q5gcfZkU14pf",
    "outputId": "83703bd5-aeaf-4af5-e104-3064ea6d5698"
   },
   "outputs": [
    {
     "name": "stdout",
     "output_type": "stream",
     "text": [
      "Model: \"sequential_1\"\n",
      "_________________________________________________________________\n",
      "Layer (type)                 Output Shape              Param #   \n",
      "=================================================================\n",
      "embedding_1 (Embedding)      (None, 3955, 32)          1600000   \n",
      "_________________________________________________________________\n",
      "bidirectional_1 (Bidirection (None, 128)               49664     \n",
      "_________________________________________________________________\n",
      "dense_2 (Dense)              (None, 16)                2064      \n",
      "_________________________________________________________________\n",
      "dropout_1 (Dropout)          (None, 16)                0         \n",
      "_________________________________________________________________\n",
      "dense_3 (Dense)              (None, 1)                 17        \n",
      "=================================================================\n",
      "Total params: 1,651,745\n",
      "Trainable params: 1,651,745\n",
      "Non-trainable params: 0\n",
      "_________________________________________________________________\n",
      "None\n"
     ]
    }
   ],
   "source": [
    "import tensorflow as tf\n",
    "from tensorflow.keras.layers import Dense,LSTM, Embedding, Dropout, Activation, Bidirectional\n",
    "#size of the output vector from each layer\n",
    "embedding_vector_length = 32\n",
    "#Creating a sequential model\n",
    "model = tf.keras.Sequential()\n",
    "#Creating an embedding layer to vectorize\n",
    "model.add(Embedding(max_feature, embedding_vector_length, input_length=max_len))\n",
    "#Addding Bi-directional LSTM\n",
    "model.add(Bidirectional(tf.keras.layers.LSTM(64)))\n",
    "#Relu allows converging quickly and allows backpropagation\n",
    "model.add(Dense(16, activation='relu'))\n",
    "#Deep Learninng models can be overfit easily, to avoid this, we add randomization using drop out\n",
    "model.add(Dropout(0.1))\n",
    "#Adding sigmoid activation function to normalize the output\n",
    "model.add(Dense(1, activation='sigmoid'))\n",
    "model.compile(loss='binary_crossentropy', optimizer='adam', metrics=['accuracy'])\n",
    "print(model.summary())\n"
   ]
  },
  {
   "cell_type": "code",
   "execution_count": null,
   "metadata": {
    "colab": {
     "base_uri": "https://localhost:8080/"
    },
    "id": "kG8tFwgW1703",
    "outputId": "ef9cd895-269a-4eb7-f78a-f83ce4a9dedb"
   },
   "outputs": [
    {
     "name": "stdout",
     "output_type": "stream",
     "text": [
      "Epoch 1/20\n",
      "18/18 [==============================] - 318s 17s/step - loss: 0.6773 - accuracy: 0.6311 - val_loss: 0.5677 - val_accuracy: 0.7272\n",
      "Epoch 2/20\n",
      "18/18 [==============================] - 296s 17s/step - loss: 0.5665 - accuracy: 0.6997 - val_loss: 0.3450 - val_accuracy: 0.7272\n",
      "Epoch 3/20\n",
      "18/18 [==============================] - 293s 16s/step - loss: 0.4169 - accuracy: 0.7555 - val_loss: 0.2612 - val_accuracy: 0.9274\n",
      "Epoch 4/20\n",
      "18/18 [==============================] - 282s 16s/step - loss: 0.2069 - accuracy: 0.9670 - val_loss: 0.1108 - val_accuracy: 0.9567\n",
      "Epoch 5/20\n",
      "18/18 [==============================] - 277s 15s/step - loss: 0.0542 - accuracy: 0.9870 - val_loss: 0.0748 - val_accuracy: 0.9766\n",
      "Epoch 6/20\n",
      "18/18 [==============================] - 288s 16s/step - loss: 0.0208 - accuracy: 0.9951 - val_loss: 0.1140 - val_accuracy: 0.9684\n",
      "Epoch 7/20\n",
      "18/18 [==============================] - 296s 17s/step - loss: 0.0264 - accuracy: 0.9942 - val_loss: 0.0752 - val_accuracy: 0.9742\n",
      "Epoch 8/20\n",
      "18/18 [==============================] - 280s 16s/step - loss: 0.0105 - accuracy: 0.9987 - val_loss: 0.0627 - val_accuracy: 0.9789\n",
      "Epoch 9/20\n",
      "18/18 [==============================] - 292s 16s/step - loss: 0.0059 - accuracy: 0.9992 - val_loss: 0.0516 - val_accuracy: 0.9859\n",
      "Epoch 10/20\n",
      "18/18 [==============================] - 298s 17s/step - loss: 0.0061 - accuracy: 0.9996 - val_loss: 0.0479 - val_accuracy: 0.9895\n",
      "Epoch 11/20\n",
      "18/18 [==============================] - 286s 16s/step - loss: 0.0035 - accuracy: 0.9998 - val_loss: 0.0536 - val_accuracy: 0.9859\n",
      "Epoch 12/20\n",
      "18/18 [==============================] - 276s 15s/step - loss: 0.0032 - accuracy: 0.9996 - val_loss: 0.0484 - val_accuracy: 0.9871\n",
      "Epoch 13/20\n",
      "18/18 [==============================] - 276s 15s/step - loss: 0.0032 - accuracy: 0.9990 - val_loss: 0.0571 - val_accuracy: 0.9859\n",
      "Epoch 14/20\n",
      "18/18 [==============================] - 278s 15s/step - loss: 0.0021 - accuracy: 0.9998 - val_loss: 0.0584 - val_accuracy: 0.9848\n",
      "Epoch 15/20\n",
      "18/18 [==============================] - 294s 16s/step - loss: 0.0017 - accuracy: 0.9993 - val_loss: 0.0611 - val_accuracy: 0.9836\n",
      "Epoch 16/20\n",
      "18/18 [==============================] - 278s 15s/step - loss: 0.0015 - accuracy: 1.0000 - val_loss: 0.0588 - val_accuracy: 0.9871\n",
      "Epoch 17/20\n",
      "18/18 [==============================] - 306s 17s/step - loss: 0.0011 - accuracy: 0.9999 - val_loss: 0.0648 - val_accuracy: 0.9859\n",
      "Epoch 18/20\n",
      "18/18 [==============================] - 272s 15s/step - loss: 0.0014 - accuracy: 1.0000 - val_loss: 0.0643 - val_accuracy: 0.9859\n",
      "Epoch 19/20\n",
      "18/18 [==============================] - 292s 16s/step - loss: 0.0012 - accuracy: 0.9998 - val_loss: 0.0658 - val_accuracy: 0.9848\n",
      "Epoch 20/20\n",
      "18/18 [==============================] - 271s 15s/step - loss: 9.2698e-04 - accuracy: 1.0000 - val_loss: 0.0660 - val_accuracy: 0.9859\n"
     ]
    }
   ],
   "source": [
    "history = model.fit(X_train,y_train,batch_size = 200,epochs=20,validation_data=(X_valid,y_valid),verbose=True)"
   ]
  },
  {
   "cell_type": "code",
   "execution_count": null,
   "metadata": {
    "id": "XGHhpj1W1_Ce"
   },
   "outputs": [],
   "source": []
  },
  {
   "cell_type": "code",
   "execution_count": null,
   "metadata": {
    "colab": {
     "base_uri": "https://localhost:8080/"
    },
    "id": "hDYvMXL_4s_9",
    "outputId": "87db294f-4e4e-4ae7-f87d-16432b67ec6e"
   },
   "outputs": [
    {
     "name": "stderr",
     "output_type": "stream",
     "text": [
      "WARNING:absl:Found untraced functions such as lstm_cell_4_layer_call_and_return_conditional_losses, lstm_cell_4_layer_call_fn, lstm_cell_5_layer_call_and_return_conditional_losses, lstm_cell_5_layer_call_fn, lstm_cell_4_layer_call_fn while saving (showing 5 of 10). These functions will not be directly callable after loading.\n",
      "WARNING:absl:Found untraced functions such as lstm_cell_4_layer_call_and_return_conditional_losses, lstm_cell_4_layer_call_fn, lstm_cell_5_layer_call_and_return_conditional_losses, lstm_cell_5_layer_call_fn, lstm_cell_4_layer_call_fn while saving (showing 5 of 10). These functions will not be directly callable after loading.\n",
      "WARNING:absl:Found untraced functions such as lstm_cell_4_layer_call_and_return_conditional_losses, lstm_cell_4_layer_call_fn, lstm_cell_5_layer_call_and_return_conditional_losses, lstm_cell_5_layer_call_fn, lstm_cell_4_layer_call_fn while saving (showing 5 of 10). These functions will not be directly callable after loading.\n",
      "WARNING:absl:Found untraced functions such as lstm_cell_4_layer_call_and_return_conditional_losses, lstm_cell_4_layer_call_fn, lstm_cell_5_layer_call_and_return_conditional_losses, lstm_cell_5_layer_call_fn, lstm_cell_4_layer_call_fn while saving (showing 5 of 10). These functions will not be directly callable after loading.\n"
     ]
    },
    {
     "name": "stdout",
     "output_type": "stream",
     "text": [
      "INFO:tensorflow:Assets written to: saved_model/my_model/assets\n",
      "INFO:tensorflow:Assets written to: saved_model/my_model/assets\n"
     ]
    },
    {
     "name": "stderr",
     "output_type": "stream",
     "text": [
      "INFO:tensorflow:Assets written to: saved_model/my_model/assets\n",
      "INFO:tensorflow:Assets written to: saved_model/my_model/assets\n"
     ]
    }
   ],
   "source": [
    "!mkdir -p saved_model\n",
    "model.save('saved_model/my_model')"
   ]
  },
  {
   "cell_type": "code",
   "execution_count": null,
   "metadata": {
    "id": "NkCDIHbJ4y3L"
   },
   "outputs": [],
   "source": [
    "model.save(\"saved_model/mask_detector.model\", save_format=\"h5\")"
   ]
  },
  {
   "cell_type": "code",
   "execution_count": null,
   "metadata": {
    "id": "G_Db4fMtOpab"
   },
   "outputs": [],
   "source": [
    "y_pred=model.predict(X_test)"
   ]
  },
  {
   "cell_type": "code",
   "execution_count": null,
   "metadata": {
    "id": "iZshoRQhPT0E"
   },
   "outputs": [],
   "source": [
    "y_pred = [1 if o>0.5 else 0 for o in y_pred]"
   ]
  },
  {
   "cell_type": "code",
   "execution_count": null,
   "metadata": {
    "id": "_UJXNePDPcAr"
   },
   "outputs": [],
   "source": [
    "y_pred"
   ]
  },
  {
   "cell_type": "code",
   "execution_count": null,
   "metadata": {
    "colab": {
     "base_uri": "https://localhost:8080/"
    },
    "id": "t2JemYgTPs5B",
    "outputId": "f7a04c2a-e92c-4832-c1ea-02b8a090f2a2"
   },
   "outputs": [
    {
     "name": "stdout",
     "output_type": "stream",
     "text": [
      "Precision: 98.21%\n",
      "Recall: 96.05%\n",
      "F1 Score: 97.12%\n"
     ]
    }
   ],
   "source": [
    "from sklearn.metrics import confusion_matrix,f1_score, precision_score,recall_score\n",
    "cf_matrix =confusion_matrix(y_test,y_pred)\n",
    "tn, fp, fn, tp = confusion_matrix(y_test,y_pred).ravel()\n",
    "print(\"Precision: {:.2f}%\".format(100 * precision_score(y_test,y_pred)))\n",
    "print(\"Recall: {:.2f}%\".format(100 * recall_score(y_test,y_pred)))\n",
    "print(\"F1 Score: {:.2f}%\".format(100 * f1_score(y_test,y_pred)))"
   ]
  },
  {
   "cell_type": "code",
   "execution_count": null,
   "metadata": {
    "colab": {
     "base_uri": "https://localhost:8080/"
    },
    "id": "h3dHLVCoP3O-",
    "outputId": "b3c74d15-e96d-4695-907a-3acf83493553"
   },
   "outputs": [
    {
     "name": "stdout",
     "output_type": "stream",
     "text": [
      "[[621   4]\n",
      " [  9 219]]\n"
     ]
    }
   ],
   "source": []
  },
  {
   "cell_type": "code",
   "execution_count": null,
   "metadata": {
    "id": "49loMncTP4wa"
   },
   "outputs": [],
   "source": []
  }
 ],
 "metadata": {
  "colab": {
   "collapsed_sections": [],
   "name": "email_spam_detector.ipynb",
   "provenance": []
  },
  "kernelspec": {
   "display_name": "Python 3",
   "language": "python",
   "name": "python3"
  },
  "language_info": {
   "codemirror_mode": {
    "name": "ipython",
    "version": 3
   },
   "file_extension": ".py",
   "mimetype": "text/x-python",
   "name": "python",
   "nbconvert_exporter": "python",
   "pygments_lexer": "ipython3",
   "version": "3.8.3"
  }
 },
 "nbformat": 4,
 "nbformat_minor": 1
}
